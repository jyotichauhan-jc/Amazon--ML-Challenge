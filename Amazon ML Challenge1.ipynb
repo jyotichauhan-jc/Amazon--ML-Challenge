{
 "cells": [
  {
   "cell_type": "markdown",
   "metadata": {},
   "source": [
    "### Importing necessary libraries and datasets"
   ]
  },
  {
   "cell_type": "code",
   "execution_count": 1,
   "metadata": {
    "ExecuteTime": {
     "end_time": "2019-12-18T19:53:36.088402Z",
     "start_time": "2019-12-18T19:53:31.588383Z"
    }
   },
   "outputs": [],
   "source": [
    "import numpy as np \n",
    "import pandas as pd\n",
    "import matplotlib.pyplot as plt\n",
    "import seaborn as sns\n",
    "import warnings\n",
    "warnings.filterwarnings('ignore')"
   ]
  },
  {
   "cell_type": "code",
   "execution_count": 2,
   "metadata": {
    "ExecuteTime": {
     "end_time": "2019-12-18T19:53:36.188594Z",
     "start_time": "2019-12-18T19:53:36.093569Z"
    }
   },
   "outputs": [],
   "source": [
    "train_data= pd.read_csv(\"train.csv\")"
   ]
  },
  {
   "cell_type": "code",
   "execution_count": 3,
   "metadata": {
    "ExecuteTime": {
     "end_time": "2019-12-18T19:53:36.235190Z",
     "start_time": "2019-12-18T19:53:36.193450Z"
    }
   },
   "outputs": [],
   "source": [
    "test_data= pd.read_csv('test.csv')"
   ]
  },
  {
   "cell_type": "code",
   "execution_count": 4,
   "metadata": {
    "ExecuteTime": {
     "end_time": "2019-12-18T19:53:36.325621Z",
     "start_time": "2019-12-18T19:53:36.238768Z"
    },
    "scrolled": true
   },
   "outputs": [
    {
     "data": {
      "text/html": [
       "<div>\n",
       "<style scoped>\n",
       "    .dataframe tbody tr th:only-of-type {\n",
       "        vertical-align: middle;\n",
       "    }\n",
       "\n",
       "    .dataframe tbody tr th {\n",
       "        vertical-align: top;\n",
       "    }\n",
       "\n",
       "    .dataframe thead th {\n",
       "        text-align: right;\n",
       "    }\n",
       "</style>\n",
       "<table border=\"1\" class=\"dataframe\">\n",
       "  <thead>\n",
       "    <tr style=\"text-align: right;\">\n",
       "      <th></th>\n",
       "      <th>Review Text</th>\n",
       "      <th>Review Title</th>\n",
       "      <th>topic</th>\n",
       "    </tr>\n",
       "  </thead>\n",
       "  <tbody>\n",
       "    <tr>\n",
       "      <th>0</th>\n",
       "      <td>Did nothing for me, didn't help lost even with...</td>\n",
       "      <td>Useless</td>\n",
       "      <td>Shipment and delivery</td>\n",
       "    </tr>\n",
       "    <tr>\n",
       "      <th>1</th>\n",
       "      <td>Did nothing for me, didn't help lost even with...</td>\n",
       "      <td>Useless</td>\n",
       "      <td>Not Effective</td>\n",
       "    </tr>\n",
       "    <tr>\n",
       "      <th>2</th>\n",
       "      <td>I have bought these bags and  immediately open...</td>\n",
       "      <td>TRASH!!! Do not buy these bags it’s a waist of...</td>\n",
       "      <td>Customer Service</td>\n",
       "    </tr>\n",
       "    <tr>\n",
       "      <th>3</th>\n",
       "      <td>Gave me an allergic reaction on my face :(</td>\n",
       "      <td>Do not recommend</td>\n",
       "      <td>Allergic</td>\n",
       "    </tr>\n",
       "    <tr>\n",
       "      <th>4</th>\n",
       "      <td>These don't compare to the name brand wipes. F...</td>\n",
       "      <td>Can't tackle big messes</td>\n",
       "      <td>Texture</td>\n",
       "    </tr>\n",
       "  </tbody>\n",
       "</table>\n",
       "</div>"
      ],
      "text/plain": [
       "                                         Review Text  \\\n",
       "0  Did nothing for me, didn't help lost even with...   \n",
       "1  Did nothing for me, didn't help lost even with...   \n",
       "2  I have bought these bags and  immediately open...   \n",
       "3         Gave me an allergic reaction on my face :(   \n",
       "4  These don't compare to the name brand wipes. F...   \n",
       "\n",
       "                                        Review Title                  topic  \n",
       "0                                            Useless  Shipment and delivery  \n",
       "1                                            Useless          Not Effective  \n",
       "2  TRASH!!! Do not buy these bags it’s a waist of...       Customer Service  \n",
       "3                                   Do not recommend               Allergic  \n",
       "4                            Can't tackle big messes                Texture  "
      ]
     },
     "execution_count": 4,
     "metadata": {},
     "output_type": "execute_result"
    }
   ],
   "source": [
    "train_data.head()"
   ]
  },
  {
   "cell_type": "code",
   "execution_count": 5,
   "metadata": {
    "ExecuteTime": {
     "end_time": "2019-12-18T19:53:36.482520Z",
     "start_time": "2019-12-18T19:53:36.371516Z"
    },
    "scrolled": true
   },
   "outputs": [
    {
     "data": {
      "text/html": [
       "<div>\n",
       "<style scoped>\n",
       "    .dataframe tbody tr th:only-of-type {\n",
       "        vertical-align: middle;\n",
       "    }\n",
       "\n",
       "    .dataframe tbody tr th {\n",
       "        vertical-align: top;\n",
       "    }\n",
       "\n",
       "    .dataframe thead th {\n",
       "        text-align: right;\n",
       "    }\n",
       "</style>\n",
       "<table border=\"1\" class=\"dataframe\">\n",
       "  <thead>\n",
       "    <tr style=\"text-align: right;\">\n",
       "      <th></th>\n",
       "      <th>Review Text</th>\n",
       "      <th>Review Title</th>\n",
       "    </tr>\n",
       "  </thead>\n",
       "  <tbody>\n",
       "    <tr>\n",
       "      <th>0</th>\n",
       "      <td>I use chia seed in my protein shakes. These ta...</td>\n",
       "      <td>Bad tast</td>\n",
       "    </tr>\n",
       "    <tr>\n",
       "      <th>1</th>\n",
       "      <td>I use chia seed in my protein shakes. These ta...</td>\n",
       "      <td>Bad tast</td>\n",
       "    </tr>\n",
       "    <tr>\n",
       "      <th>2</th>\n",
       "      <td>Don’t waste your money.</td>\n",
       "      <td>No change. No results.</td>\n",
       "    </tr>\n",
       "    <tr>\n",
       "      <th>3</th>\n",
       "      <td>I use the book 'Fortify Your Life' by Tieraona...</td>\n",
       "      <td>Good Vegan Choice, Poor Non Vegan Choice</td>\n",
       "    </tr>\n",
       "    <tr>\n",
       "      <th>4</th>\n",
       "      <td>I use the book 'Fortify Your Life' by Tieraona...</td>\n",
       "      <td>Good Vegan Choice, Poor Non Vegan Choice</td>\n",
       "    </tr>\n",
       "  </tbody>\n",
       "</table>\n",
       "</div>"
      ],
      "text/plain": [
       "                                         Review Text  \\\n",
       "0  I use chia seed in my protein shakes. These ta...   \n",
       "1  I use chia seed in my protein shakes. These ta...   \n",
       "2                            Don’t waste your money.   \n",
       "3  I use the book 'Fortify Your Life' by Tieraona...   \n",
       "4  I use the book 'Fortify Your Life' by Tieraona...   \n",
       "\n",
       "                               Review Title  \n",
       "0                                  Bad tast  \n",
       "1                                  Bad tast  \n",
       "2                    No change. No results.  \n",
       "3  Good Vegan Choice, Poor Non Vegan Choice  \n",
       "4  Good Vegan Choice, Poor Non Vegan Choice  "
      ]
     },
     "execution_count": 5,
     "metadata": {},
     "output_type": "execute_result"
    }
   ],
   "source": [
    "test_data.head()"
   ]
  },
  {
   "cell_type": "code",
   "execution_count": 6,
   "metadata": {
    "ExecuteTime": {
     "end_time": "2019-12-18T19:53:37.663669Z",
     "start_time": "2019-12-18T19:53:37.655107Z"
    }
   },
   "outputs": [],
   "source": [
    "train_x = train_data.drop(['topic'], axis = 1)\n",
    "train_y = train_data.topic\n",
    "test_x= test_data"
   ]
  },
  {
   "cell_type": "code",
   "execution_count": 7,
   "metadata": {
    "ExecuteTime": {
     "end_time": "2019-12-18T19:53:38.599365Z",
     "start_time": "2019-12-18T19:53:38.569663Z"
    }
   },
   "outputs": [
    {
     "data": {
      "text/html": [
       "<div>\n",
       "<style scoped>\n",
       "    .dataframe tbody tr th:only-of-type {\n",
       "        vertical-align: middle;\n",
       "    }\n",
       "\n",
       "    .dataframe tbody tr th {\n",
       "        vertical-align: top;\n",
       "    }\n",
       "\n",
       "    .dataframe thead th {\n",
       "        text-align: right;\n",
       "    }\n",
       "</style>\n",
       "<table border=\"1\" class=\"dataframe\">\n",
       "  <thead>\n",
       "    <tr style=\"text-align: right;\">\n",
       "      <th></th>\n",
       "      <th>Review Text</th>\n",
       "      <th>Review Title</th>\n",
       "      <th>topic</th>\n",
       "    </tr>\n",
       "  </thead>\n",
       "  <tbody>\n",
       "    <tr>\n",
       "      <th>0</th>\n",
       "      <td>Did nothing for me, didn't help lost even with...</td>\n",
       "      <td>Useless</td>\n",
       "      <td>Shipment and delivery</td>\n",
       "    </tr>\n",
       "    <tr>\n",
       "      <th>2</th>\n",
       "      <td>I have bought these bags and  immediately open...</td>\n",
       "      <td>TRASH!!! Do not buy these bags it’s a waist of...</td>\n",
       "      <td>Customer Service</td>\n",
       "    </tr>\n",
       "    <tr>\n",
       "      <th>3</th>\n",
       "      <td>Gave me an allergic reaction on my face :(</td>\n",
       "      <td>Do not recommend</td>\n",
       "      <td>Allergic</td>\n",
       "    </tr>\n",
       "    <tr>\n",
       "      <th>4</th>\n",
       "      <td>These don't compare to the name brand wipes. F...</td>\n",
       "      <td>Can't tackle big messes</td>\n",
       "      <td>Texture</td>\n",
       "    </tr>\n",
       "    <tr>\n",
       "      <th>7</th>\n",
       "      <td>No good</td>\n",
       "      <td>Tastes horrible</td>\n",
       "      <td>Bad Taste/Flavor</td>\n",
       "    </tr>\n",
       "  </tbody>\n",
       "</table>\n",
       "</div>"
      ],
      "text/plain": [
       "                                         Review Text  \\\n",
       "0  Did nothing for me, didn't help lost even with...   \n",
       "2  I have bought these bags and  immediately open...   \n",
       "3         Gave me an allergic reaction on my face :(   \n",
       "4  These don't compare to the name brand wipes. F...   \n",
       "7                                            No good   \n",
       "\n",
       "                                        Review Title                  topic  \n",
       "0                                            Useless  Shipment and delivery  \n",
       "2  TRASH!!! Do not buy these bags it’s a waist of...       Customer Service  \n",
       "3                                   Do not recommend               Allergic  \n",
       "4                            Can't tackle big messes                Texture  \n",
       "7                                    Tastes horrible       Bad Taste/Flavor  "
      ]
     },
     "execution_count": 7,
     "metadata": {},
     "output_type": "execute_result"
    }
   ],
   "source": [
    "train_data = train_data.drop_duplicates('Review Text')\n",
    "train_data.head()"
   ]
  },
  {
   "cell_type": "code",
   "execution_count": 8,
   "metadata": {
    "ExecuteTime": {
     "end_time": "2019-12-18T19:53:39.345878Z",
     "start_time": "2019-12-18T19:53:39.335423Z"
    }
   },
   "outputs": [
    {
     "data": {
      "text/plain": [
       "(2553, 2)"
      ]
     },
     "execution_count": 8,
     "metadata": {},
     "output_type": "execute_result"
    }
   ],
   "source": [
    "test_data.shape"
   ]
  },
  {
   "cell_type": "code",
   "execution_count": 9,
   "metadata": {
    "ExecuteTime": {
     "end_time": "2019-12-18T19:53:40.770372Z",
     "start_time": "2019-12-18T19:53:40.761897Z"
    }
   },
   "outputs": [
    {
     "data": {
      "text/plain": [
       "array(['Shipment and delivery', 'Customer Service', 'Allergic', 'Texture',\n",
       "       'Bad Taste/Flavor', 'Too big to swallow', 'Quality/Contaminated',\n",
       "       'Smells Bad', 'Too Sweet', 'Not Effective', 'Expiry',\n",
       "       'Wrong Product received', 'Pricing', 'Color and texture',\n",
       "       'Packaging', 'False Advertisement', 'Ingredients',\n",
       "       'Inferior to competitors', 'Customer Issues', \"Didn't Like\",\n",
       "       'Hard to Chew'], dtype=object)"
      ]
     },
     "execution_count": 9,
     "metadata": {},
     "output_type": "execute_result"
    }
   ],
   "source": [
    "train_data['topic'].unique()"
   ]
  },
  {
   "cell_type": "code",
   "execution_count": 10,
   "metadata": {
    "ExecuteTime": {
     "end_time": "2019-12-18T19:53:41.724572Z",
     "start_time": "2019-12-18T19:53:41.705293Z"
    },
    "scrolled": true
   },
   "outputs": [],
   "source": [
    "concerns_df = train_data.groupby('topic').filter(lambda x: len(x) > 100)\n",
    "concerns = concerns_df['topic'].value_counts().index.tolist()"
   ]
  },
  {
   "cell_type": "code",
   "execution_count": 11,
   "metadata": {
    "ExecuteTime": {
     "end_time": "2019-12-18T19:53:42.848758Z",
     "start_time": "2019-12-18T19:53:42.835703Z"
    }
   },
   "outputs": [
    {
     "data": {
      "text/plain": [
       "Bad Taste/Flavor         619\n",
       "Quality/Contaminated     574\n",
       "Not Effective            525\n",
       "Packaging                363\n",
       "Allergic                 337\n",
       "Shipment and delivery    336\n",
       "Texture                  328\n",
       "Too big to swallow       205\n",
       "Ingredients              147\n",
       "Customer Service         127\n",
       "Smells Bad               102\n",
       "Name: topic, dtype: int64"
      ]
     },
     "execution_count": 11,
     "metadata": {},
     "output_type": "execute_result"
    }
   ],
   "source": [
    "concerns_df['topic'].value_counts()"
   ]
  },
  {
   "cell_type": "code",
   "execution_count": 12,
   "metadata": {
    "ExecuteTime": {
     "end_time": "2019-12-18T19:53:43.952026Z",
     "start_time": "2019-12-18T19:53:43.524964Z"
    }
   },
   "outputs": [
    {
     "data": {
      "image/png": "[encoded data removed]",
      "text/plain": [
       "<Figure size 1080x576 with 1 Axes>"
      ]
     },
     "metadata": {
      "needs_background": "light"
     },
     "output_type": "display_data"
    }
   ],
   "source": [
    "fig, ax = plt.subplots(figsize = (15, 8))\n",
    "sns.countplot(x = concerns_df['topic'], order = concerns, ax = ax)\n",
    "plt.xticks(rotation = 90)\n",
    "plt.show()"
   ]
  },
  {
   "cell_type": "markdown",
   "metadata": {},
   "source": [
    "##### From the reviews in the training data, the top concerns highlighted are:\n",
    "1)The highest negative reviews for the products are related to their Bad Taste/Flavour\n",
    "\n",
    "2)Next, Quality of the products is not liked by the customers\n",
    "\n",
    "3)A lot of people complain about the non-effectiveness of the products\n",
    "\n",
    "4)Packaging of the products comes out to be among one of the top most concern of the customers\n",
    "\n",
    "5)Customers also complain about the texture and allergic reaction due to the use of the products"
   ]
  },
  {
   "cell_type": "code",
   "execution_count": 13,
   "metadata": {
    "ExecuteTime": {
     "end_time": "2019-12-18T19:53:48.490120Z",
     "start_time": "2019-12-18T19:53:47.260023Z"
    }
   },
   "outputs": [
    {
     "data": {
      "image/png": "[encoded data removed]",
      "text/plain": [
       "<Figure size 1080x1080 with 1 Axes>"
      ]
     },
     "metadata": {
      "needs_background": "light"
     },
     "output_type": "display_data"
    }
   ],
   "source": [
    "from wordcloud import WordCloud, STOPWORDS\n",
    "stopwords = STOPWORDS\n",
    "\n",
    "def create_wordcloud(data, title = None):\n",
    "    wordcloud = WordCloud(stopwords=stopwords,max_font_size= 40).generate(str(data))\n",
    "    \n",
    "    fig = plt.figure(figsize=(15, 15))\n",
    "    plt.axis('off')\n",
    "\n",
    "    plt.imshow(wordcloud)\n",
    "    plt.show()\n",
    "    \n",
    "create_wordcloud(train_data['Review Text'])"
   ]
  },
  {
   "cell_type": "markdown",
   "metadata": {},
   "source": [
    "#### Preprocessing"
   ]
  },
  {
   "cell_type": "code",
   "execution_count": 14,
   "metadata": {
    "ExecuteTime": {
     "end_time": "2019-12-18T19:54:31.792341Z",
     "start_time": "2019-12-18T19:54:30.169895Z"
    }
   },
   "outputs": [],
   "source": [
    "from nltk.stem import WordNetLemmatizer\n",
    "import re"
   ]
  },
  {
   "cell_type": "code",
   "execution_count": 15,
   "metadata": {
    "ExecuteTime": {
     "end_time": "2019-12-18T19:54:31.808860Z",
     "start_time": "2019-12-18T19:54:31.796365Z"
    }
   },
   "outputs": [],
   "source": [
    "def clean_text(text_data):\n",
    "    text= str(text_data)\n",
    "    \n",
    "    #removing symbols\n",
    "    text = re.sub(\"[^A-Za-z]+\", \" \", text)\n",
    "    tokens = text.split()\n",
    "    #lemmatizing\n",
    "    wordnet_lemmatizer = WordNetLemmatizer()\n",
    "    text = \" \".join([wordnet_lemmatizer.lemmatize(w, pos='n') for w in text.split()])\n",
    "    \n",
    "    return text"
   ]
  },
  {
   "cell_type": "code",
   "execution_count": 16,
   "metadata": {
    "ExecuteTime": {
     "end_time": "2019-12-18T19:54:39.628326Z",
     "start_time": "2019-12-18T19:54:31.814308Z"
    }
   },
   "outputs": [],
   "source": [
    "train_data['Review Text'] = train_data['Review Text'].map(lambda x: clean_text(x))\n",
    "test_data['Review Text'] = test_data['Review Text'].map(lambda x: clean_text(x))\n",
    "train_data['Review Title']= train_data['Review Title'].map(lambda x: clean_text(x))\n",
    "test_data['Review Title']= test_data['Review Title'].map(lambda x: clean_text(x))"
   ]
  },
  {
   "cell_type": "code",
   "execution_count": 17,
   "metadata": {
    "ExecuteTime": {
     "end_time": "2019-12-18T19:54:39.646973Z",
     "start_time": "2019-12-18T19:54:39.632700Z"
    }
   },
   "outputs": [],
   "source": [
    "import string\n",
    "punctuations = string.punctuation\n",
    "from nltk.corpus import stopwords\n",
    "stop = set(stopwords.words('english'))\n",
    "stop.update(punctuations)"
   ]
  },
  {
   "cell_type": "code",
   "execution_count": 18,
   "metadata": {
    "ExecuteTime": {
     "end_time": "2019-12-18T19:54:39.739377Z",
     "start_time": "2019-12-18T19:54:39.653853Z"
    },
    "scrolled": true
   },
   "outputs": [],
   "source": [
    "topics =train_data.topic.unique().tolist()\n",
    "topics.sort()"
   ]
  },
  {
   "cell_type": "code",
   "execution_count": 19,
   "metadata": {
    "ExecuteTime": {
     "end_time": "2019-12-18T19:54:39.862819Z",
     "start_time": "2019-12-18T19:54:39.743400Z"
    }
   },
   "outputs": [
    {
     "name": "stdout",
     "output_type": "stream",
     "text": [
      "(3147, 2) (1049, 2) (3147,) (1049,)\n"
     ]
    }
   ],
   "source": [
    "from sklearn.model_selection import train_test_split\n",
    "\n",
    "X = train_data.drop(['topic'], axis = 1)\n",
    "y = train_data.topic\n",
    "x= test_data\n",
    "\n",
    "\n",
    "X_train, X_test, y_train, y_test = train_test_split(X, y, random_state=1)\n",
    "print(X_train.shape, X_test.shape, y_train.shape, y_test.shape)"
   ]
  },
  {
   "cell_type": "code",
   "execution_count": 20,
   "metadata": {
    "ExecuteTime": {
     "end_time": "2019-12-18T19:54:40.260013Z",
     "start_time": "2019-12-18T19:54:39.867506Z"
    }
   },
   "outputs": [],
   "source": [
    "from sklearn.feature_extraction.text import CountVectorizer\n",
    "\n",
    "vect = CountVectorizer(stop_words = stop)\n",
    "X_train_dtm = vect.fit_transform(X_train['Review Text'])"
   ]
  },
  {
   "cell_type": "code",
   "execution_count": 21,
   "metadata": {
    "ExecuteTime": {
     "end_time": "2019-12-18T19:54:40.281680Z",
     "start_time": "2019-12-18T19:54:40.265702Z"
    }
   },
   "outputs": [
    {
     "data": {
      "text/plain": [
       "<3147x6499 sparse matrix of type '<class 'numpy.int64'>'\n",
       "\twith 62766 stored elements in Compressed Sparse Row format>"
      ]
     },
     "execution_count": 21,
     "metadata": {},
     "output_type": "execute_result"
    }
   ],
   "source": [
    "X_train_dtm"
   ]
  },
  {
   "cell_type": "code",
   "execution_count": 22,
   "metadata": {
    "ExecuteTime": {
     "end_time": "2019-12-18T19:54:40.460526Z",
     "start_time": "2019-12-18T19:54:40.287760Z"
    }
   },
   "outputs": [],
   "source": [
    "X_test_dtm = vect.transform(X_test['Review Text'])"
   ]
  },
  {
   "cell_type": "markdown",
   "metadata": {},
   "source": [
    "#### Modeling"
   ]
  },
  {
   "cell_type": "code",
   "execution_count": 23,
   "metadata": {
    "ExecuteTime": {
     "end_time": "2019-12-18T19:54:40.574523Z",
     "start_time": "2019-12-18T19:54:40.464271Z"
    }
   },
   "outputs": [],
   "source": [
    "from sklearn.linear_model import LogisticRegression\n",
    "from sklearn.svm import SVC\n",
    "from sklearn.ensemble import RandomForestClassifier\n",
    "from sklearn.ensemble import GradientBoostingClassifier\n",
    "import xgboost as xgb\n",
    "from xgboost.sklearn import XGBClassifier\n",
    "base_clf= [SVC(probability= True), GradientBoostingClassifier(),RandomForestClassifier(),XGBClassifier()]\n",
    "stack_clf= XGBClassifier()"
   ]
  },
  {
   "cell_type": "code",
   "execution_count": 24,
   "metadata": {
    "ExecuteTime": {
     "end_time": "2019-12-18T19:54:40.666424Z",
     "start_time": "2019-12-18T19:54:40.574523Z"
    }
   },
   "outputs": [],
   "source": [
    "#!pip install vecstack\n",
    "from vecstack import stacking"
   ]
  },
  {
   "cell_type": "code",
   "execution_count": 25,
   "metadata": {
    "ExecuteTime": {
     "end_time": "2019-12-18T20:02:22.906840Z",
     "start_time": "2019-12-18T19:54:40.669762Z"
    }
   },
   "outputs": [
    {
     "name": "stdout",
     "output_type": "stream",
     "text": [
      "task:         [classification]\n",
      "n_classes:    [21]\n",
      "metric:       [log_loss]\n",
      "mode:         [oof_pred_bag]\n",
      "n_models:     [4]\n",
      "\n",
      "model  0:     [SVC]\n",
      "    fold  0:  [1.87547704]\n",
      "    fold  1:  [1.89564659]\n",
      "    fold  2:  [1.77616889]\n",
      "    ----\n",
      "    MEAN:     [1.84909751] + [0.05222158]\n",
      "    FULL:     [1.84934355]\n",
      "\n",
      "model  1:     [GradientBoostingClassifier]\n",
      "    fold  0:  [1.22972119]\n",
      "    fold  1:  [1.21743355]\n",
      "    fold  2:  [1.22792569]\n",
      "    ----\n",
      "    MEAN:     [1.22502681] + [0.00541905]\n",
      "    FULL:     [1.22503528]\n",
      "\n",
      "model  2:     [RandomForestClassifier]\n",
      "    fold  0:  [5.42200192]\n",
      "    fold  1:  [4.66590823]\n",
      "    fold  2:  [5.64712821]\n",
      "    ----\n",
      "    MEAN:     [5.24501279] + [0.41967609]\n",
      "    FULL:     [5.24468075]\n",
      "\n",
      "model  3:     [XGBClassifier]\n",
      "    fold  0:  [1.14697480]\n",
      "    fold  1:  [1.16620045]\n",
      "    fold  2:  [1.17736775]\n",
      "    ----\n",
      "    MEAN:     [1.16351433] + [0.01255240]\n",
      "    FULL:     [1.16343096]\n",
      "\n"
     ]
    }
   ],
   "source": [
    "s_train, s_test =stacking(base_clf, X_train_dtm, y_train, X_test_dtm,regression =False, needs_proba=True, n_folds=3, stratified=True,random_state=0, verbose=2)"
   ]
  },
  {
   "cell_type": "code",
   "execution_count": 26,
   "metadata": {
    "ExecuteTime": {
     "end_time": "2019-12-18T20:03:31.617286Z",
     "start_time": "2019-12-18T20:02:22.906840Z"
    }
   },
   "outputs": [],
   "source": [
    "import xgboost as xgb\n",
    "from xgboost.sklearn import XGBClassifier\n",
    "models ={}\n",
    "for z in topics:\n",
    "    model=XGBClassifier()\n",
    "    y=y_train==z\n",
    "    model.fit(s_train,y)\n",
    "    models[z]=model\n",
    "testing_probs=pd.DataFrame(columns= topics)"
   ]
  },
  {
   "cell_type": "code",
   "execution_count": 27,
   "metadata": {
    "ExecuteTime": {
     "end_time": "2019-12-18T20:03:31.945699Z",
     "start_time": "2019-12-18T20:03:31.621316Z"
    }
   },
   "outputs": [
    {
     "name": "stdout",
     "output_type": "stream",
     "text": [
      "Accuracy Score: 73.11725452812202 %\n"
     ]
    },
    {
     "data": {
      "text/html": [
       "<div>\n",
       "<style scoped>\n",
       "    .dataframe tbody tr th:only-of-type {\n",
       "        vertical-align: middle;\n",
       "    }\n",
       "\n",
       "    .dataframe tbody tr th {\n",
       "        vertical-align: top;\n",
       "    }\n",
       "\n",
       "    .dataframe thead th {\n",
       "        text-align: right;\n",
       "    }\n",
       "</style>\n",
       "<table border=\"1\" class=\"dataframe\">\n",
       "  <thead>\n",
       "    <tr style=\"text-align: right;\">\n",
       "      <th></th>\n",
       "      <th>actual</th>\n",
       "      <th>predicted</th>\n",
       "    </tr>\n",
       "  </thead>\n",
       "  <tbody>\n",
       "    <tr>\n",
       "      <th>0</th>\n",
       "      <td>Allergic</td>\n",
       "      <td>Allergic</td>\n",
       "    </tr>\n",
       "    <tr>\n",
       "      <th>1</th>\n",
       "      <td>Packaging</td>\n",
       "      <td>Packaging</td>\n",
       "    </tr>\n",
       "    <tr>\n",
       "      <th>2</th>\n",
       "      <td>Quality/Contaminated</td>\n",
       "      <td>Bad Taste/Flavor</td>\n",
       "    </tr>\n",
       "    <tr>\n",
       "      <th>3</th>\n",
       "      <td>Smells Bad</td>\n",
       "      <td>Color and texture</td>\n",
       "    </tr>\n",
       "    <tr>\n",
       "      <th>4</th>\n",
       "      <td>Too Sweet</td>\n",
       "      <td>Too Sweet</td>\n",
       "    </tr>\n",
       "    <tr>\n",
       "      <th>5</th>\n",
       "      <td>Packaging</td>\n",
       "      <td>Packaging</td>\n",
       "    </tr>\n",
       "    <tr>\n",
       "      <th>6</th>\n",
       "      <td>Shipment and delivery</td>\n",
       "      <td>Shipment and delivery</td>\n",
       "    </tr>\n",
       "    <tr>\n",
       "      <th>7</th>\n",
       "      <td>Packaging</td>\n",
       "      <td>Shipment and delivery</td>\n",
       "    </tr>\n",
       "    <tr>\n",
       "      <th>8</th>\n",
       "      <td>Wrong Product received</td>\n",
       "      <td>Shipment and delivery</td>\n",
       "    </tr>\n",
       "    <tr>\n",
       "      <th>9</th>\n",
       "      <td>Bad Taste/Flavor</td>\n",
       "      <td>Smells Bad</td>\n",
       "    </tr>\n",
       "    <tr>\n",
       "      <th>10</th>\n",
       "      <td>Pricing</td>\n",
       "      <td>Texture</td>\n",
       "    </tr>\n",
       "    <tr>\n",
       "      <th>11</th>\n",
       "      <td>Packaging</td>\n",
       "      <td>Packaging</td>\n",
       "    </tr>\n",
       "    <tr>\n",
       "      <th>12</th>\n",
       "      <td>Not Effective</td>\n",
       "      <td>Not Effective</td>\n",
       "    </tr>\n",
       "    <tr>\n",
       "      <th>13</th>\n",
       "      <td>Smells Bad</td>\n",
       "      <td>Smells Bad</td>\n",
       "    </tr>\n",
       "    <tr>\n",
       "      <th>14</th>\n",
       "      <td>Bad Taste/Flavor</td>\n",
       "      <td>Quality/Contaminated</td>\n",
       "    </tr>\n",
       "    <tr>\n",
       "      <th>15</th>\n",
       "      <td>Quality/Contaminated</td>\n",
       "      <td>Quality/Contaminated</td>\n",
       "    </tr>\n",
       "    <tr>\n",
       "      <th>16</th>\n",
       "      <td>Quality/Contaminated</td>\n",
       "      <td>Quality/Contaminated</td>\n",
       "    </tr>\n",
       "    <tr>\n",
       "      <th>17</th>\n",
       "      <td>Allergic</td>\n",
       "      <td>Allergic</td>\n",
       "    </tr>\n",
       "    <tr>\n",
       "      <th>18</th>\n",
       "      <td>Allergic</td>\n",
       "      <td>Allergic</td>\n",
       "    </tr>\n",
       "    <tr>\n",
       "      <th>19</th>\n",
       "      <td>Quality/Contaminated</td>\n",
       "      <td>Quality/Contaminated</td>\n",
       "    </tr>\n",
       "    <tr>\n",
       "      <th>20</th>\n",
       "      <td>Pricing</td>\n",
       "      <td>Quality/Contaminated</td>\n",
       "    </tr>\n",
       "    <tr>\n",
       "      <th>21</th>\n",
       "      <td>Allergic</td>\n",
       "      <td>Allergic</td>\n",
       "    </tr>\n",
       "    <tr>\n",
       "      <th>22</th>\n",
       "      <td>Not Effective</td>\n",
       "      <td>Allergic</td>\n",
       "    </tr>\n",
       "    <tr>\n",
       "      <th>23</th>\n",
       "      <td>Bad Taste/Flavor</td>\n",
       "      <td>Bad Taste/Flavor</td>\n",
       "    </tr>\n",
       "    <tr>\n",
       "      <th>24</th>\n",
       "      <td>Packaging</td>\n",
       "      <td>Packaging</td>\n",
       "    </tr>\n",
       "  </tbody>\n",
       "</table>\n",
       "</div>"
      ],
      "text/plain": [
       "                    actual              predicted\n",
       "0                 Allergic               Allergic\n",
       "1                Packaging              Packaging\n",
       "2     Quality/Contaminated       Bad Taste/Flavor\n",
       "3               Smells Bad      Color and texture\n",
       "4                Too Sweet              Too Sweet\n",
       "5                Packaging              Packaging\n",
       "6    Shipment and delivery  Shipment and delivery\n",
       "7                Packaging  Shipment and delivery\n",
       "8   Wrong Product received  Shipment and delivery\n",
       "9         Bad Taste/Flavor             Smells Bad\n",
       "10                 Pricing                Texture\n",
       "11               Packaging              Packaging\n",
       "12           Not Effective          Not Effective\n",
       "13              Smells Bad             Smells Bad\n",
       "14        Bad Taste/Flavor   Quality/Contaminated\n",
       "15    Quality/Contaminated   Quality/Contaminated\n",
       "16    Quality/Contaminated   Quality/Contaminated\n",
       "17                Allergic               Allergic\n",
       "18                Allergic               Allergic\n",
       "19    Quality/Contaminated   Quality/Contaminated\n",
       "20                 Pricing   Quality/Contaminated\n",
       "21                Allergic               Allergic\n",
       "22           Not Effective               Allergic\n",
       "23        Bad Taste/Flavor       Bad Taste/Flavor\n",
       "24               Packaging              Packaging"
      ]
     },
     "execution_count": 27,
     "metadata": {},
     "output_type": "execute_result"
    }
   ],
   "source": [
    "for topic in topics:\n",
    "    testing_probs[topic] = models[topic].predict_proba(s_test)[:,1]\n",
    "    \n",
    "predicted_topic = testing_probs.idxmax(axis=1)\n",
    "\n",
    "comparison = pd.DataFrame({'actual':y_test.values, 'predicted':predicted_topic.values})   \n",
    "\n",
    "from sklearn.metrics import accuracy_score\n",
    "print('Accuracy Score:',accuracy_score(comparison.actual, comparison.predicted)*100,\"%\")\n",
    "comparison.head(25)"
   ]
  },
  {
   "cell_type": "code",
   "execution_count": 28,
   "metadata": {
    "ExecuteTime": {
     "end_time": "2019-12-18T20:03:32.757875Z",
     "start_time": "2019-12-18T20:03:31.949717Z"
    }
   },
   "outputs": [],
   "source": [
    "from sklearn.feature_extraction.text import CountVectorizer\n",
    "vect = CountVectorizer(stop_words = stop)\n",
    "train_dtm = vect.fit_transform(train_x['Review Text'])\n",
    "test_dtm = vect.transform(test_x['Review Text'])"
   ]
  },
  {
   "cell_type": "code",
   "execution_count": 29,
   "metadata": {
    "ExecuteTime": {
     "end_time": "2019-12-18T20:05:21.704672Z",
     "start_time": "2019-12-18T20:03:32.759145Z"
    }
   },
   "outputs": [],
   "source": [
    "model ={}\n",
    "for z in topics:\n",
    "    model=XGBClassifier()\n",
    "    y=train_y==z\n",
    "    model.fit(train_dtm,y)\n",
    "    models[z]=model\n",
    "testing_probs=pd.DataFrame(columns= topics)"
   ]
  },
  {
   "cell_type": "code",
   "execution_count": 30,
   "metadata": {
    "ExecuteTime": {
     "end_time": "2019-12-18T20:05:22.576817Z",
     "start_time": "2019-12-18T20:05:21.704672Z"
    }
   },
   "outputs": [],
   "source": [
    "for topic in topics:\n",
    "    testing_probs[topic] = models[topic].predict_proba(test_dtm)[:,1]\n",
    "    \n",
    "predicted_topic = testing_probs.idxmax(axis=1)"
   ]
  },
  {
   "cell_type": "markdown",
   "metadata": {},
   "source": [
    "#### saving predictons"
   ]
  },
  {
   "cell_type": "code",
   "execution_count": 31,
   "metadata": {
    "ExecuteTime": {
     "end_time": "2019-12-18T20:05:22.894975Z",
     "start_time": "2019-12-18T20:05:22.576817Z"
    }
   },
   "outputs": [
    {
     "data": {
      "text/html": [
       "<div>\n",
       "<style scoped>\n",
       "    .dataframe tbody tr th:only-of-type {\n",
       "        vertical-align: middle;\n",
       "    }\n",
       "\n",
       "    .dataframe tbody tr th {\n",
       "        vertical-align: top;\n",
       "    }\n",
       "\n",
       "    .dataframe thead th {\n",
       "        text-align: right;\n",
       "    }\n",
       "</style>\n",
       "<table border=\"1\" class=\"dataframe\">\n",
       "  <thead>\n",
       "    <tr style=\"text-align: right;\">\n",
       "      <th></th>\n",
       "      <th>Review Text</th>\n",
       "      <th>Review Title</th>\n",
       "      <th>topic</th>\n",
       "    </tr>\n",
       "  </thead>\n",
       "  <tbody>\n",
       "    <tr>\n",
       "      <th>0</th>\n",
       "      <td>I use chia seed in my protein shake These tast...</td>\n",
       "      <td>Bad tast</td>\n",
       "      <td>Bad Taste/Flavor</td>\n",
       "    </tr>\n",
       "    <tr>\n",
       "      <th>1</th>\n",
       "      <td>I use chia seed in my protein shake These tast...</td>\n",
       "      <td>Bad tast</td>\n",
       "      <td>Bad Taste/Flavor</td>\n",
       "    </tr>\n",
       "    <tr>\n",
       "      <th>2</th>\n",
       "      <td>Don t waste your money</td>\n",
       "      <td>No change No result</td>\n",
       "      <td>Not Effective</td>\n",
       "    </tr>\n",
       "    <tr>\n",
       "      <th>3</th>\n",
       "      <td>I use the book Fortify Your Life by Tieraona L...</td>\n",
       "      <td>Good Vegan Choice Poor Non Vegan Choice</td>\n",
       "      <td>Ingredients</td>\n",
       "    </tr>\n",
       "    <tr>\n",
       "      <th>4</th>\n",
       "      <td>I use the book Fortify Your Life by Tieraona L...</td>\n",
       "      <td>Good Vegan Choice Poor Non Vegan Choice</td>\n",
       "      <td>Ingredients</td>\n",
       "    </tr>\n",
       "  </tbody>\n",
       "</table>\n",
       "</div>"
      ],
      "text/plain": [
       "                                         Review Text  \\\n",
       "0  I use chia seed in my protein shake These tast...   \n",
       "1  I use chia seed in my protein shake These tast...   \n",
       "2                             Don t waste your money   \n",
       "3  I use the book Fortify Your Life by Tieraona L...   \n",
       "4  I use the book Fortify Your Life by Tieraona L...   \n",
       "\n",
       "                              Review Title             topic  \n",
       "0                                 Bad tast  Bad Taste/Flavor  \n",
       "1                                 Bad tast  Bad Taste/Flavor  \n",
       "2                      No change No result     Not Effective  \n",
       "3  Good Vegan Choice Poor Non Vegan Choice       Ingredients  \n",
       "4  Good Vegan Choice Poor Non Vegan Choice       Ingredients  "
      ]
     },
     "execution_count": 31,
     "metadata": {},
     "output_type": "execute_result"
    }
   ],
   "source": [
    "output = pd.DataFrame({'Review Text': test_data['Review Text'],\n",
    "                       'Review Title': test_data['Review Title'],\n",
    "                      'topic':predicted_topic})\n",
    "output.to_csv('submission6.csv', index=False)\n",
    "output.head()"
   ]
  },
  {
   "cell_type": "code",
   "execution_count": 32,
   "metadata": {
    "ExecuteTime": {
     "end_time": "2019-12-18T20:05:22.921443Z",
     "start_time": "2019-12-18T20:05:22.899613Z"
    }
   },
   "outputs": [],
   "source": [
    "concerns_df = output.groupby('topic').filter(lambda x: len(x) > 100)\n",
    "concerns = concerns_df['topic'].value_counts().index.tolist()"
   ]
  },
  {
   "cell_type": "code",
   "execution_count": 33,
   "metadata": {
    "ExecuteTime": {
     "end_time": "2019-12-18T20:05:23.613721Z",
     "start_time": "2019-12-18T20:05:22.921443Z"
    },
    "scrolled": false
   },
   "outputs": [
    {
     "data": {
      "image/png": "[encoded data removed]",
      "text/plain": [
       "<Figure size 1080x576 with 1 Axes>"
      ]
     },
     "metadata": {
      "needs_background": "light"
     },
     "output_type": "display_data"
    }
   ],
   "source": [
    "fig, ax = plt.subplots(figsize = (15,8))\n",
    "sns.countplot(x = concerns_df['topic'], order = concerns, ax = ax)\n",
    "plt.xticks(rotation = 90)\n",
    "plt.show()"
   ]
  },
  {
   "cell_type": "markdown",
   "metadata": {},
   "source": [
    "#### From the analysis of reviews, it can be inferred that the top most 3 concern of customers relates to the Bad Taste/Flavour , Quality, and non-effectiveness of the product"
   ]
  }
 ],
 "metadata": {
  "kernelspec": {
   "display_name": "Python 3",
   "language": "python",
   "name": "python3"
  },
  "language_info": {
   "codemirror_mode": {
    "name": "ipython",
    "version": 3
   },
   "file_extension": ".py",
   "mimetype": "text/x-python",
   "name": "python",
   "nbconvert_exporter": "python",
   "pygments_lexer": "ipython3",
   "version": "3.7.3"
  }
 },
 "nbformat": 4,
 "nbformat_minor": 2
}
