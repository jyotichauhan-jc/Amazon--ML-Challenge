{
 "cells": [
  {
   "cell_type": "markdown",
   "metadata": {},
   "source": [
    "### Importing necessary libraries and datasets"
   ]
  },
  {
   "cell_type": "code",
   "execution_count": 1,
   "metadata": {
    "ExecuteTime": {
     "end_time": "2019-10-24T03:30:50.407171Z",
     "start_time": "2019-10-24T03:29:51.191171Z"
    }
   },
   "outputs": [],
   "source": [
    "import numpy as np \n",
    "import pandas as pd\n",
    "import matplotlib.pyplot as plt\n",
    "import seaborn as sns\n",
    "import warnings\n",
    "warnings.filterwarnings('ignore')"
   ]
  },
  {
   "cell_type": "code",
   "execution_count": 2,
   "metadata": {
    "ExecuteTime": {
     "end_time": "2019-10-24T03:30:51.743380Z",
     "start_time": "2019-10-24T03:30:50.407171Z"
    }
   },
   "outputs": [],
   "source": [
    "train_data= pd.read_csv(\"train.csv\")"
   ]
  },
  {
   "cell_type": "code",
   "execution_count": 3,
   "metadata": {
    "ExecuteTime": {
     "end_time": "2019-10-24T03:30:51.857998Z",
     "start_time": "2019-10-24T03:30:51.752145Z"
    }
   },
   "outputs": [],
   "source": [
    "test_data= pd.read_csv('test.csv')"
   ]
  },
  {
   "cell_type": "code",
   "execution_count": 4,
   "metadata": {
    "ExecuteTime": {
     "end_time": "2019-10-24T03:30:52.669329Z",
     "start_time": "2019-10-24T03:30:51.861689Z"
    }
   },
   "outputs": [],
   "source": [
    "train_x = train_data.drop(['topic'], axis = 1)\n",
    "train_y = train_data.topic\n",
    "test_x= test_data"
   ]
  },
  {
   "cell_type": "code",
   "execution_count": 5,
   "metadata": {
    "ExecuteTime": {
     "end_time": "2019-10-24T03:30:53.106537Z",
     "start_time": "2019-10-24T03:30:52.669329Z"
    }
   },
   "outputs": [],
   "source": [
    "train_data = train_data.drop_duplicates('Review Text')"
   ]
  },
  {
   "cell_type": "code",
   "execution_count": 6,
   "metadata": {
    "ExecuteTime": {
     "end_time": "2019-10-24T03:30:53.133155Z",
     "start_time": "2019-10-24T03:30:53.106537Z"
    }
   },
   "outputs": [
    {
     "data": {
      "text/plain": [
       "(2553, 2)"
      ]
     },
     "execution_count": 6,
     "metadata": {},
     "output_type": "execute_result"
    }
   ],
   "source": [
    "test_data.shape"
   ]
  },
  {
   "cell_type": "code",
   "execution_count": 7,
   "metadata": {
    "ExecuteTime": {
     "end_time": "2019-10-24T03:30:53.292422Z",
     "start_time": "2019-10-24T03:30:53.144947Z"
    }
   },
   "outputs": [
    {
     "data": {
      "text/plain": [
       "array(['Shipment and delivery', 'Customer Service', 'Allergic', 'Texture',\n",
       "       'Bad Taste/Flavor', 'Too big to swallow', 'Quality/Contaminated',\n",
       "       'Smells Bad', 'Too Sweet', 'Not Effective', 'Expiry',\n",
       "       'Wrong Product received', 'Pricing', 'Color and texture',\n",
       "       'Packaging', 'False Advertisement', 'Ingredients',\n",
       "       'Inferior to competitors', 'Customer Issues', \"Didn't Like\",\n",
       "       'Hard to Chew'], dtype=object)"
      ]
     },
     "execution_count": 7,
     "metadata": {},
     "output_type": "execute_result"
    }
   ],
   "source": [
    "train_data['topic'].unique()"
   ]
  },
  {
   "cell_type": "code",
   "execution_count": 8,
   "metadata": {
    "ExecuteTime": {
     "end_time": "2019-10-24T03:30:53.797746Z",
     "start_time": "2019-10-24T03:30:53.301593Z"
    },
    "scrolled": true
   },
   "outputs": [],
   "source": [
    "concerns_df = train_data.groupby('topic').filter(lambda x: len(x) > 100)\n",
    "concerns = concerns_df['topic'].value_counts().index.tolist()"
   ]
  },
  {
   "cell_type": "code",
   "execution_count": 9,
   "metadata": {
    "ExecuteTime": {
     "end_time": "2019-10-24T03:30:55.188653Z",
     "start_time": "2019-10-24T03:30:53.804382Z"
    },
    "scrolled": true
   },
   "outputs": [
    {
     "data": {
      "image/png": "[encoded data removed]",
      "text/plain": [
       "<Figure size 1080x576 with 1 Axes>"
      ]
     },
     "metadata": {
      "needs_background": "light"
     },
     "output_type": "display_data"
    }
   ],
   "source": [
    "fig, ax = plt.subplots(figsize = (15,8))\n",
    "sns.countplot(x = concerns_df['topic'], order = concerns, ax = ax)\n",
    "plt.xticks(rotation = 90)\n",
    "plt.show()"
   ]
  },
  {
   "cell_type": "markdown",
   "metadata": {},
   "source": [
    "##### From the reviews in the training data, the top concerns highlighted are:\n",
    "1)The highest negative reviews for the products are related to their Bad Taste/Flavour\n",
    "\n",
    "2)Next, Quality of the products is not liked by the customers\n",
    "\n",
    "3)A lot of people complain about the non-effectiveness of the products\n",
    "\n",
    "4)Packaging of the products comes out to be among the top most concern of the customers\n",
    "\n",
    "5)Customers also complain about the texture and allergic reaction due to the use of the products"
   ]
  },
  {
   "cell_type": "markdown",
   "metadata": {},
   "source": [
    "#### Modeling:Bagging(RandomForestClassifier) &Boosting(XGBClassifier)"
   ]
  },
  {
   "cell_type": "code",
   "execution_count": 10,
   "metadata": {
    "ExecuteTime": {
     "end_time": "2019-10-24T03:31:05.593675Z",
     "start_time": "2019-10-24T03:30:55.189489Z"
    }
   },
   "outputs": [],
   "source": [
    "from sklearn.ensemble import RandomForestClassifier\n",
    "import xgboost as xgb\n",
    "from xgboost.sklearn import XGBClassifier"
   ]
  },
  {
   "cell_type": "code",
   "execution_count": 11,
   "metadata": {
    "ExecuteTime": {
     "end_time": "2019-10-24T03:31:05.698348Z",
     "start_time": "2019-10-24T03:31:05.596665Z"
    }
   },
   "outputs": [
    {
     "name": "stdout",
     "output_type": "stream",
     "text": [
      "(3147, 2) (1049, 2) (3147,) (1049,)\n"
     ]
    }
   ],
   "source": [
    "from sklearn.model_selection import train_test_split\n",
    "\n",
    "X = train_data.drop(['topic'], axis = 1)\n",
    "y = train_data.topic\n",
    "x= test_data\n",
    "\n",
    "X_train, X_test, y_train, y_test = train_test_split(X, y, random_state=1)\n",
    "print(X_train.shape, X_test.shape, y_train.shape, y_test.shape)"
   ]
  },
  {
   "cell_type": "code",
   "execution_count": 12,
   "metadata": {
    "ExecuteTime": {
     "end_time": "2019-10-24T03:31:18.583609Z",
     "start_time": "2019-10-24T03:31:05.708603Z"
    }
   },
   "outputs": [],
   "source": [
    "import string\n",
    "punctuations = string.punctuation\n",
    "from nltk.corpus import stopwords\n",
    "stop = set(stopwords.words('english'))\n",
    "stop.update(punctuations)"
   ]
  },
  {
   "cell_type": "code",
   "execution_count": 13,
   "metadata": {
    "ExecuteTime": {
     "end_time": "2019-10-24T03:31:18.628118Z",
     "start_time": "2019-10-24T03:31:18.583609Z"
    },
    "scrolled": true
   },
   "outputs": [],
   "source": [
    "topics =train_data.topic.unique().tolist()\n",
    "topics.sort()"
   ]
  },
  {
   "cell_type": "code",
   "execution_count": 14,
   "metadata": {
    "ExecuteTime": {
     "end_time": "2019-10-24T03:31:19.346531Z",
     "start_time": "2019-10-24T03:31:18.630124Z"
    }
   },
   "outputs": [],
   "source": [
    "from sklearn.feature_extraction.text import CountVectorizer\n",
    "vect = CountVectorizer(stop_words = stop)\n",
    "X_train_dtm = vect.fit_transform(X_train['Review Text'])"
   ]
  },
  {
   "cell_type": "code",
   "execution_count": 15,
   "metadata": {
    "ExecuteTime": {
     "end_time": "2019-10-24T03:31:19.464052Z",
     "start_time": "2019-10-24T03:31:19.352947Z"
    }
   },
   "outputs": [],
   "source": [
    "X_test_dtm = vect.transform(X_test['Review Text'])"
   ]
  },
  {
   "cell_type": "code",
   "execution_count": 16,
   "metadata": {
    "ExecuteTime": {
     "end_time": "2019-10-24T03:32:18.355992Z",
     "start_time": "2019-10-24T03:31:19.464052Z"
    }
   },
   "outputs": [],
   "source": [
    "models ={}\n",
    "for z in topics:\n",
    "    model=RandomForestClassifier(n_estimators=200, random_state=0)\n",
    "    y=y_train==z\n",
    "    model.fit(X_train_dtm,y)\n",
    "    models[z]=model\n",
    "testing_probs=pd.DataFrame(columns= topics)"
   ]
  },
  {
   "cell_type": "code",
   "execution_count": 17,
   "metadata": {
    "ExecuteTime": {
     "end_time": "2019-10-24T03:33:48.980176Z",
     "start_time": "2019-10-24T03:32:18.366607Z"
    }
   },
   "outputs": [],
   "source": [
    "import xgboost as xgb\n",
    "from xgboost.sklearn import XGBClassifier\n",
    "model ={}\n",
    "for z in topics:\n",
    "    model=XGBClassifier()\n",
    "    y=y_train==z\n",
    "    model.fit(X_train_dtm,y)\n",
    "    models[z]=model\n",
    "testing_probs=pd.DataFrame(columns= topics)"
   ]
  },
  {
   "cell_type": "code",
   "execution_count": 18,
   "metadata": {
    "ExecuteTime": {
     "end_time": "2019-10-24T03:33:49.830214Z",
     "start_time": "2019-10-24T03:33:48.984170Z"
    }
   },
   "outputs": [
    {
     "name": "stdout",
     "output_type": "stream",
     "text": [
      "Accuracy Score: 70.54337464251668 %\n"
     ]
    },
    {
     "data": {
      "text/html": [
       "<div>\n",
       "<style scoped>\n",
       "    .dataframe tbody tr th:only-of-type {\n",
       "        vertical-align: middle;\n",
       "    }\n",
       "\n",
       "    .dataframe tbody tr th {\n",
       "        vertical-align: top;\n",
       "    }\n",
       "\n",
       "    .dataframe thead th {\n",
       "        text-align: right;\n",
       "    }\n",
       "</style>\n",
       "<table border=\"1\" class=\"dataframe\">\n",
       "  <thead>\n",
       "    <tr style=\"text-align: right;\">\n",
       "      <th></th>\n",
       "      <th>actual</th>\n",
       "      <th>predicted</th>\n",
       "    </tr>\n",
       "  </thead>\n",
       "  <tbody>\n",
       "    <tr>\n",
       "      <th>0</th>\n",
       "      <td>Allergic</td>\n",
       "      <td>Allergic</td>\n",
       "    </tr>\n",
       "    <tr>\n",
       "      <th>1</th>\n",
       "      <td>Packaging</td>\n",
       "      <td>Packaging</td>\n",
       "    </tr>\n",
       "    <tr>\n",
       "      <th>2</th>\n",
       "      <td>Quality/Contaminated</td>\n",
       "      <td>Bad Taste/Flavor</td>\n",
       "    </tr>\n",
       "    <tr>\n",
       "      <th>3</th>\n",
       "      <td>Smells Bad</td>\n",
       "      <td>Color and texture</td>\n",
       "    </tr>\n",
       "    <tr>\n",
       "      <th>4</th>\n",
       "      <td>Too Sweet</td>\n",
       "      <td>Too Sweet</td>\n",
       "    </tr>\n",
       "  </tbody>\n",
       "</table>\n",
       "</div>"
      ],
      "text/plain": [
       "                 actual          predicted\n",
       "0              Allergic           Allergic\n",
       "1             Packaging          Packaging\n",
       "2  Quality/Contaminated   Bad Taste/Flavor\n",
       "3            Smells Bad  Color and texture\n",
       "4             Too Sweet          Too Sweet"
      ]
     },
     "execution_count": 18,
     "metadata": {},
     "output_type": "execute_result"
    }
   ],
   "source": [
    "for topic in topics:\n",
    "    testing_probs[topic] = models[topic].predict_proba(X_test_dtm)[:,1]\n",
    "    \n",
    "predicted_topic = testing_probs.idxmax(axis=1)\n",
    "\n",
    "comparison = pd.DataFrame({'actual':y_test.values, 'predicted':predicted_topic.values})   \n",
    "\n",
    "from sklearn.metrics import accuracy_score\n",
    "print('Accuracy Score:',accuracy_score(comparison.actual, comparison.predicted)*100,\"%\")\n",
    "comparison.head()"
   ]
  },
  {
   "cell_type": "code",
   "execution_count": 19,
   "metadata": {
    "ExecuteTime": {
     "end_time": "2019-10-24T03:33:50.705547Z",
     "start_time": "2019-10-24T03:33:49.832417Z"
    }
   },
   "outputs": [],
   "source": [
    "from sklearn.feature_extraction.text import CountVectorizer\n",
    "vect = CountVectorizer(stop_words = stop)\n",
    "train_dtm = vect.fit_transform(train_x['Review Text'])\n",
    "test_dtm = vect.transform(test_x['Review Text'])"
   ]
  },
  {
   "cell_type": "code",
   "execution_count": 20,
   "metadata": {
    "ExecuteTime": {
     "end_time": "2019-10-24T03:43:30.011106Z",
     "start_time": "2019-10-24T03:33:50.710169Z"
    }
   },
   "outputs": [],
   "source": [
    "models = {}\n",
    "for z in topics:\n",
    "    model = RandomForestClassifier(n_estimators =200, random_state=0)\n",
    "    \n",
    "    y = train_y == z\n",
    "    model.fit(train_dtm, y)\n",
    "    models[z] = model\n",
    "\n",
    "testing_probs = pd.DataFrame(columns = topics)\n"
   ]
  },
  {
   "cell_type": "code",
   "execution_count": 21,
   "metadata": {
    "ExecuteTime": {
     "end_time": "2019-10-24T03:45:25.388997Z",
     "start_time": "2019-10-24T03:43:30.012102Z"
    }
   },
   "outputs": [],
   "source": [
    "model ={}\n",
    "for z in topics:\n",
    "    model=XGBClassifier()\n",
    "    y=train_y==z\n",
    "    model.fit(train_dtm,y)\n",
    "    models[z]=model\n",
    "testing_probs=pd.DataFrame(columns= topics)"
   ]
  },
  {
   "cell_type": "code",
   "execution_count": 22,
   "metadata": {
    "ExecuteTime": {
     "end_time": "2019-10-24T03:45:26.315682Z",
     "start_time": "2019-10-24T03:45:25.391699Z"
    }
   },
   "outputs": [],
   "source": [
    "for topic in topics:\n",
    "    testing_probs[topic] = models[topic].predict_proba(test_dtm)[:,1]\n",
    "    \n",
    "predicted_topic = testing_probs.idxmax(axis=1)"
   ]
  },
  {
   "cell_type": "markdown",
   "metadata": {},
   "source": [
    "#### Saving the results"
   ]
  },
  {
   "cell_type": "code",
   "execution_count": 23,
   "metadata": {
    "ExecuteTime": {
     "end_time": "2019-10-24T03:45:26.947888Z",
     "start_time": "2019-10-24T03:45:26.322991Z"
    }
   },
   "outputs": [
    {
     "data": {
      "text/html": [
       "<div>\n",
       "<style scoped>\n",
       "    .dataframe tbody tr th:only-of-type {\n",
       "        vertical-align: middle;\n",
       "    }\n",
       "\n",
       "    .dataframe tbody tr th {\n",
       "        vertical-align: top;\n",
       "    }\n",
       "\n",
       "    .dataframe thead th {\n",
       "        text-align: right;\n",
       "    }\n",
       "</style>\n",
       "<table border=\"1\" class=\"dataframe\">\n",
       "  <thead>\n",
       "    <tr style=\"text-align: right;\">\n",
       "      <th></th>\n",
       "      <th>Review Text</th>\n",
       "      <th>Review Title</th>\n",
       "      <th>topic</th>\n",
       "    </tr>\n",
       "  </thead>\n",
       "  <tbody>\n",
       "    <tr>\n",
       "      <th>0</th>\n",
       "      <td>I use chia seed in my protein shakes. These ta...</td>\n",
       "      <td>Bad tast</td>\n",
       "      <td>Bad Taste/Flavor</td>\n",
       "    </tr>\n",
       "    <tr>\n",
       "      <th>1</th>\n",
       "      <td>I use chia seed in my protein shakes. These ta...</td>\n",
       "      <td>Bad tast</td>\n",
       "      <td>Bad Taste/Flavor</td>\n",
       "    </tr>\n",
       "    <tr>\n",
       "      <th>2</th>\n",
       "      <td>Don’t waste your money.</td>\n",
       "      <td>No change. No results.</td>\n",
       "      <td>Not Effective</td>\n",
       "    </tr>\n",
       "    <tr>\n",
       "      <th>3</th>\n",
       "      <td>I use the book 'Fortify Your Life' by Tieraona...</td>\n",
       "      <td>Good Vegan Choice, Poor Non Vegan Choice</td>\n",
       "      <td>Ingredients</td>\n",
       "    </tr>\n",
       "    <tr>\n",
       "      <th>4</th>\n",
       "      <td>I use the book 'Fortify Your Life' by Tieraona...</td>\n",
       "      <td>Good Vegan Choice, Poor Non Vegan Choice</td>\n",
       "      <td>Ingredients</td>\n",
       "    </tr>\n",
       "  </tbody>\n",
       "</table>\n",
       "</div>"
      ],
      "text/plain": [
       "                                         Review Text  \\\n",
       "0  I use chia seed in my protein shakes. These ta...   \n",
       "1  I use chia seed in my protein shakes. These ta...   \n",
       "2                            Don’t waste your money.   \n",
       "3  I use the book 'Fortify Your Life' by Tieraona...   \n",
       "4  I use the book 'Fortify Your Life' by Tieraona...   \n",
       "\n",
       "                               Review Title             topic  \n",
       "0                                  Bad tast  Bad Taste/Flavor  \n",
       "1                                  Bad tast  Bad Taste/Flavor  \n",
       "2                    No change. No results.     Not Effective  \n",
       "3  Good Vegan Choice, Poor Non Vegan Choice       Ingredients  \n",
       "4  Good Vegan Choice, Poor Non Vegan Choice       Ingredients  "
      ]
     },
     "execution_count": 23,
     "metadata": {},
     "output_type": "execute_result"
    }
   ],
   "source": [
    "output = pd.DataFrame({'Review Text': test_data['Review Text'],\n",
    "                       'Review Title': test_data['Review Title'],\n",
    "                      'topic':predicted_topic})\n",
    "output.to_csv('submission.csv', index=False)\n",
    "output.head()"
   ]
  },
  {
   "cell_type": "code",
   "execution_count": 24,
   "metadata": {
    "ExecuteTime": {
     "end_time": "2019-10-24T03:45:27.101893Z",
     "start_time": "2019-10-24T03:45:26.958746Z"
    }
   },
   "outputs": [],
   "source": [
    "concerns_df = output.groupby('topic').filter(lambda x: len(x) > 100)\n",
    "concerns = concerns_df['topic'].value_counts().index.tolist()"
   ]
  },
  {
   "cell_type": "code",
   "execution_count": 25,
   "metadata": {
    "ExecuteTime": {
     "end_time": "2019-10-24T03:45:28.559818Z",
     "start_time": "2019-10-24T03:45:27.105583Z"
    },
    "scrolled": false
   },
   "outputs": [
    {
     "data": {
      "image/png": "[encoded data removed]",
      "text/plain": [
       "<Figure size 1080x576 with 1 Axes>"
      ]
     },
     "metadata": {
      "needs_background": "light"
     },
     "output_type": "display_data"
    }
   ],
   "source": [
    "fig, ax = plt.subplots(figsize = (15,8))\n",
    "sns.countplot(x = concerns_df['topic'], order = concerns, ax = ax)\n",
    "plt.xticks(rotation = 90)\n",
    "plt.show()"
   ]
  },
  {
   "cell_type": "markdown",
   "metadata": {},
   "source": [
    "### From the analysis of reviews, it can be inferred that the top most 3 concern of customers relates to the Bad Taste/Flavour , Quality, and non-effectiveness of the product"
   ]
  }
 ],
 "metadata": {
  "kernelspec": {
   "display_name": "Python 3",
   "language": "python",
   "name": "python3"
  },
  "language_info": {
   "codemirror_mode": {
    "name": "ipython",
    "version": 3
   },
   "file_extension": ".py",
   "mimetype": "text/x-python",
   "name": "python",
   "nbconvert_exporter": "python",
   "pygments_lexer": "ipython3",
   "version": "3.7.3"
  }
 },
 "nbformat": 4,
 "nbformat_minor": 2
}
